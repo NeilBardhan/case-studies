{
 "cells": [
  {
   "cell_type": "markdown",
   "metadata": {},
   "source": [
    "# Exploring Online Order Sales Data"
   ]
  },
  {
   "cell_type": "markdown",
   "metadata": {},
   "source": [
    "For this challenge, I explore 2 medium sized datasets from an online retailer. The datasets contain transactions and records of the visitors to the site. Let's see what we can find in this data."
   ]
  },
  {
   "cell_type": "markdown",
   "metadata": {},
   "source": [
    "## Importing the Libraries"
   ]
  },
  {
   "cell_type": "code",
   "execution_count": 1,
   "metadata": {
    "ExecuteTime": {
     "end_time": "2020-07-23T03:03:36.662090Z",
     "start_time": "2020-07-23T03:03:35.399093Z"
    }
   },
   "outputs": [
    {
     "name": "stderr",
     "output_type": "stream",
     "text": [
      "C:\\anaconda\\lib\\site-packages\\statsmodels\\tools\\_testing.py:19: FutureWarning: pandas.util.testing is deprecated. Use the functions in the public API at pandas.testing instead.\n",
      "  import pandas.util.testing as tm\n"
     ]
    }
   ],
   "source": [
    "import os\n",
    "import numpy as np\n",
    "import pandas as pd\n",
    "import seaborn as sns\n",
    "import missingno as msno\n",
    "import matplotlib.pyplot as plt"
   ]
  },
  {
   "cell_type": "markdown",
   "metadata": {},
   "source": [
    "## Importing the Data"
   ]
  },
  {
   "cell_type": "code",
   "execution_count": 2,
   "metadata": {
    "ExecuteTime": {
     "end_time": "2020-07-23T03:03:36.667097Z",
     "start_time": "2020-07-23T03:03:36.663102Z"
    }
   },
   "outputs": [],
   "source": [
    "os.chdir('..')"
   ]
  },
  {
   "cell_type": "code",
   "execution_count": 3,
   "metadata": {
    "ExecuteTime": {
     "end_time": "2020-07-23T03:03:36.672092Z",
     "start_time": "2020-07-23T03:03:36.669095Z"
    }
   },
   "outputs": [],
   "source": [
    "DATA_PATH = os.getcwd() + '//data//'\n",
    "trx_file = 'transactions_202001.csv'\n",
    "visitor_file = 'visitors_202001.csv'"
   ]
  },
  {
   "cell_type": "code",
   "execution_count": 4,
   "metadata": {
    "ExecuteTime": {
     "end_time": "2020-07-23T03:03:36.907122Z",
     "start_time": "2020-07-23T03:03:36.674091Z"
    }
   },
   "outputs": [
    {
     "name": "stdout",
     "output_type": "stream",
     "text": [
      "(120662, 7)\n"
     ]
    },
    {
     "data": {
      "text/html": [
       "<div>\n",
       "<style scoped>\n",
       "    .dataframe tbody tr th:only-of-type {\n",
       "        vertical-align: middle;\n",
       "    }\n",
       "\n",
       "    .dataframe tbody tr th {\n",
       "        vertical-align: top;\n",
       "    }\n",
       "\n",
       "    .dataframe thead th {\n",
       "        text-align: right;\n",
       "    }\n",
       "</style>\n",
       "<table border=\"1\" class=\"dataframe\">\n",
       "  <thead>\n",
       "    <tr style=\"text-align: right;\">\n",
       "      <th></th>\n",
       "      <th>user_id</th>\n",
       "      <th>transaction_id</th>\n",
       "      <th>time</th>\n",
       "      <th>country</th>\n",
       "      <th>items</th>\n",
       "      <th>total</th>\n",
       "      <th>returned_items</th>\n",
       "    </tr>\n",
       "  </thead>\n",
       "  <tbody>\n",
       "    <tr>\n",
       "      <th>0</th>\n",
       "      <td>cadeed9426d287cb9cb651cd7ed4f103</td>\n",
       "      <td>2fa41e338cf91fffba68c6f9fb80add6</td>\n",
       "      <td>1541185315</td>\n",
       "      <td>A</td>\n",
       "      <td>1</td>\n",
       "      <td>18.56</td>\n",
       "      <td>0</td>\n",
       "    </tr>\n",
       "    <tr>\n",
       "      <th>1</th>\n",
       "      <td>bb3936cb7bb0f605d187a52ff5e03438</td>\n",
       "      <td>795caad659fc9038034aaf5ecf873e61</td>\n",
       "      <td>1541185411</td>\n",
       "      <td>A</td>\n",
       "      <td>4</td>\n",
       "      <td>34.02</td>\n",
       "      <td>0</td>\n",
       "    </tr>\n",
       "    <tr>\n",
       "      <th>2</th>\n",
       "      <td>ae2178e497fc7a38917d950e52ff22ec</td>\n",
       "      <td>29fe89653bb7268b3a7ade23387ba326</td>\n",
       "      <td>1541185455</td>\n",
       "      <td>A</td>\n",
       "      <td>15</td>\n",
       "      <td>346.39</td>\n",
       "      <td>0</td>\n",
       "    </tr>\n",
       "    <tr>\n",
       "      <th>3</th>\n",
       "      <td>3421071b1e44d7160cac7dc6accb4f50</td>\n",
       "      <td>a6e04c84c1dd826a6036e26ea513951d</td>\n",
       "      <td>1541185510</td>\n",
       "      <td>C</td>\n",
       "      <td>1</td>\n",
       "      <td>18.56</td>\n",
       "      <td>0</td>\n",
       "    </tr>\n",
       "    <tr>\n",
       "      <th>4</th>\n",
       "      <td>82798f7788ad20ce34118c925055c06b</td>\n",
       "      <td>7c849f99090de7ec2322d6d31472a607</td>\n",
       "      <td>1541185706</td>\n",
       "      <td>A</td>\n",
       "      <td>1</td>\n",
       "      <td>58.76</td>\n",
       "      <td>0</td>\n",
       "    </tr>\n",
       "  </tbody>\n",
       "</table>\n",
       "</div>"
      ],
      "text/plain": [
       "                            user_id                    transaction_id  \\\n",
       "0  cadeed9426d287cb9cb651cd7ed4f103  2fa41e338cf91fffba68c6f9fb80add6   \n",
       "1  bb3936cb7bb0f605d187a52ff5e03438  795caad659fc9038034aaf5ecf873e61   \n",
       "2  ae2178e497fc7a38917d950e52ff22ec  29fe89653bb7268b3a7ade23387ba326   \n",
       "3  3421071b1e44d7160cac7dc6accb4f50  a6e04c84c1dd826a6036e26ea513951d   \n",
       "4  82798f7788ad20ce34118c925055c06b  7c849f99090de7ec2322d6d31472a607   \n",
       "\n",
       "         time country  items   total  returned_items  \n",
       "0  1541185315       A      1   18.56               0  \n",
       "1  1541185411       A      4   34.02               0  \n",
       "2  1541185455       A     15  346.39               0  \n",
       "3  1541185510       C      1   18.56               0  \n",
       "4  1541185706       A      1   58.76               0  "
      ]
     },
     "execution_count": 4,
     "metadata": {},
     "output_type": "execute_result"
    }
   ],
   "source": [
    "trx = pd.read_csv(DATA_PATH + trx_file, low_memory=False)\n",
    "print(trx.shape)\n",
    "trx.head()"
   ]
  },
  {
   "cell_type": "code",
   "execution_count": 5,
   "metadata": {
    "ExecuteTime": {
     "end_time": "2020-07-23T03:03:40.857128Z",
     "start_time": "2020-07-23T03:03:36.908137Z"
    }
   },
   "outputs": [
    {
     "name": "stdout",
     "output_type": "stream",
     "text": [
      "(1981904, 9)\n"
     ]
    },
    {
     "data": {
      "text/html": [
       "<div>\n",
       "<style scoped>\n",
       "    .dataframe tbody tr th:only-of-type {\n",
       "        vertical-align: middle;\n",
       "    }\n",
       "\n",
       "    .dataframe tbody tr th {\n",
       "        vertical-align: top;\n",
       "    }\n",
       "\n",
       "    .dataframe thead th {\n",
       "        text-align: right;\n",
       "    }\n",
       "</style>\n",
       "<table border=\"1\" class=\"dataframe\">\n",
       "  <thead>\n",
       "    <tr style=\"text-align: right;\">\n",
       "      <th></th>\n",
       "      <th>user_id</th>\n",
       "      <th>client</th>\n",
       "      <th>ip_country</th>\n",
       "      <th>gender</th>\n",
       "      <th>year_born</th>\n",
       "      <th>channel</th>\n",
       "      <th>time</th>\n",
       "      <th>minutes</th>\n",
       "      <th>session_id</th>\n",
       "    </tr>\n",
       "  </thead>\n",
       "  <tbody>\n",
       "    <tr>\n",
       "      <th>0</th>\n",
       "      <td>de4c93c3293c76f3aa95c4c57be7e09f</td>\n",
       "      <td>androidapp</td>\n",
       "      <td>A</td>\n",
       "      <td>F</td>\n",
       "      <td>1948</td>\n",
       "      <td>paid</td>\n",
       "      <td>1525762800</td>\n",
       "      <td>4</td>\n",
       "      <td>cfd3f6f2eda4c859d19f5cef56f26351</td>\n",
       "    </tr>\n",
       "    <tr>\n",
       "      <th>1</th>\n",
       "      <td>0e399e7047198e3a9fc8c2baed521d60</td>\n",
       "      <td>web</td>\n",
       "      <td>B</td>\n",
       "      <td>M</td>\n",
       "      <td>1985</td>\n",
       "      <td>organic</td>\n",
       "      <td>1525762800</td>\n",
       "      <td>35</td>\n",
       "      <td>54b4133384ab0bfa97675240fa939007</td>\n",
       "    </tr>\n",
       "    <tr>\n",
       "      <th>2</th>\n",
       "      <td>2fbb988aa25afb749bfe86bb314a79cb</td>\n",
       "      <td>iosapp</td>\n",
       "      <td>A</td>\n",
       "      <td>F</td>\n",
       "      <td>1999</td>\n",
       "      <td>organic</td>\n",
       "      <td>1525762800</td>\n",
       "      <td>4</td>\n",
       "      <td>b609d8ffaaf5e80075836dcf32580b04</td>\n",
       "    </tr>\n",
       "    <tr>\n",
       "      <th>3</th>\n",
       "      <td>763019e3db7510769a85cec170abf53d</td>\n",
       "      <td>androidapp</td>\n",
       "      <td>C</td>\n",
       "      <td>F</td>\n",
       "      <td>1985</td>\n",
       "      <td>organic</td>\n",
       "      <td>1525762800</td>\n",
       "      <td>5</td>\n",
       "      <td>49759218c2c231d4d41592facd2811d0</td>\n",
       "    </tr>\n",
       "    <tr>\n",
       "      <th>4</th>\n",
       "      <td>b6835da7d9d3595b6e12c100fca1d51c</td>\n",
       "      <td>iosapp</td>\n",
       "      <td>A</td>\n",
       "      <td>F</td>\n",
       "      <td>1960</td>\n",
       "      <td>organic</td>\n",
       "      <td>1525762800</td>\n",
       "      <td>5</td>\n",
       "      <td>433ae77787d29e5d57778d0c65143ad2</td>\n",
       "    </tr>\n",
       "  </tbody>\n",
       "</table>\n",
       "</div>"
      ],
      "text/plain": [
       "                            user_id      client ip_country gender  year_born  \\\n",
       "0  de4c93c3293c76f3aa95c4c57be7e09f  androidapp          A      F       1948   \n",
       "1  0e399e7047198e3a9fc8c2baed521d60         web          B      M       1985   \n",
       "2  2fbb988aa25afb749bfe86bb314a79cb      iosapp          A      F       1999   \n",
       "3  763019e3db7510769a85cec170abf53d  androidapp          C      F       1985   \n",
       "4  b6835da7d9d3595b6e12c100fca1d51c      iosapp          A      F       1960   \n",
       "\n",
       "   channel        time  minutes                        session_id  \n",
       "0     paid  1525762800        4  cfd3f6f2eda4c859d19f5cef56f26351  \n",
       "1  organic  1525762800       35  54b4133384ab0bfa97675240fa939007  \n",
       "2  organic  1525762800        4  b609d8ffaaf5e80075836dcf32580b04  \n",
       "3  organic  1525762800        5  49759218c2c231d4d41592facd2811d0  \n",
       "4  organic  1525762800        5  433ae77787d29e5d57778d0c65143ad2  "
      ]
     },
     "execution_count": 5,
     "metadata": {},
     "output_type": "execute_result"
    }
   ],
   "source": [
    "visitors = pd.read_csv(DATA_PATH + visitor_file, low_memory=False)\n",
    "print(visitors.shape)\n",
    "visitors.head()"
   ]
  },
  {
   "cell_type": "markdown",
   "metadata": {},
   "source": [
    "## Exploratory Data Analysis"
   ]
  },
  {
   "cell_type": "markdown",
   "metadata": {},
   "source": [
    "### Summary judgements"
   ]
  },
  {
   "cell_type": "markdown",
   "metadata": {},
   "source": [
    " *  We have 2 datasets - **visitors** and **transactions**. **Visitors** is the larger of the 2 which is a characteristic of online shopping, not every visit translates to a purchase. \n",
    " *  1.98 Million rows in `visitors`, 120662 rows in `trx`, which roughly translates to a purchase every 16 visits. Ideally every online retailer would like to minimize that ratio (while increasing both visitors and transactions). As we explore this data further we'll see if we can find solutions and opportunities to this question of growth.\n",
    " *  `country` and `ip_country` in both datasets seem to be anonymized. But there are multiple countries indicating a multi-national operation. This could form an important segmentation feature along with `channel` and `client`.\n",
    " *  Categorical Variables - \n",
    "     *  country (trx)\n",
    "     *  ip_country (visitors)\n",
    "     *  client (visitors)\n",
    "     *  gender (visitors)\n",
    "     *  channel (visitors)"
   ]
  },
  {
   "cell_type": "markdown",
   "metadata": {},
   "source": [
    "### Assumptions"
   ]
  },
  {
   "cell_type": "markdown",
   "metadata": {},
   "source": [
    " *  `time` in `trx` is the **checkout** UNIX timestamp.\n",
    " *  `time` in `visitors` is the **session start** UNIX timestamp.\n",
    " *  Single users can have multiple session IDs. i.e. primary key in `visitors` is `session_id` + `user_id` or `session_id` on it's own.\n",
    " *  Similarly primary key in `trx` is `user_id` + `transaction_id` or `transaction_id` on it's own.\n",
    " *  Even though `trx` and `visitors` both have `user_id` joining these datasets is harder than it looks. Since `trx` lacks `session_id` to connect a visit to a purchase we will need to creatively use time to come up with a way to join the 2 tables. Something like : `time (visitors)` + `minutes (visitors)` == `time (trx)`"
   ]
  },
  {
   "cell_type": "markdown",
   "metadata": {},
   "source": [
    "### Sanity checks"
   ]
  },
  {
   "cell_type": "code",
   "execution_count": 6,
   "metadata": {
    "ExecuteTime": {
     "end_time": "2020-07-23T03:03:40.866096Z",
     "start_time": "2020-07-23T03:03:40.859090Z"
    }
   },
   "outputs": [
    {
     "data": {
      "text/plain": [
       "user_id            object\n",
       "transaction_id     object\n",
       "time                int64\n",
       "country            object\n",
       "items               int64\n",
       "total             float64\n",
       "returned_items      int64\n",
       "dtype: object"
      ]
     },
     "execution_count": 6,
     "metadata": {},
     "output_type": "execute_result"
    }
   ],
   "source": [
    "trx.dtypes"
   ]
  },
  {
   "cell_type": "code",
   "execution_count": 7,
   "metadata": {
    "ExecuteTime": {
     "end_time": "2020-07-23T03:03:40.893093Z",
     "start_time": "2020-07-23T03:03:40.868091Z"
    }
   },
   "outputs": [
    {
     "data": {
      "text/plain": [
       "27072"
      ]
     },
     "execution_count": 7,
     "metadata": {},
     "output_type": "execute_result"
    }
   ],
   "source": [
    "len(trx['user_id'].unique())\n",
    "## 27k users responsible for 120k trx"
   ]
  },
  {
   "cell_type": "code",
   "execution_count": 8,
   "metadata": {
    "ExecuteTime": {
     "end_time": "2020-07-23T03:03:40.945092Z",
     "start_time": "2020-07-23T03:03:40.895093Z"
    }
   },
   "outputs": [
    {
     "data": {
      "text/plain": [
       "120662"
      ]
     },
     "execution_count": 8,
     "metadata": {},
     "output_type": "execute_result"
    }
   ],
   "source": [
    "len(trx['transaction_id'].unique())\n",
    "## since this is equal to num of trx => transaction_id is primary key"
   ]
  },
  {
   "cell_type": "code",
   "execution_count": 9,
   "metadata": {
    "ExecuteTime": {
     "end_time": "2020-07-23T03:03:40.955090Z",
     "start_time": "2020-07-23T03:03:40.947091Z"
    }
   },
   "outputs": [
    {
     "data": {
      "text/plain": [
       "user_id       object\n",
       "client        object\n",
       "ip_country    object\n",
       "gender        object\n",
       "year_born      int64\n",
       "channel       object\n",
       "time           int64\n",
       "minutes        int64\n",
       "session_id    object\n",
       "dtype: object"
      ]
     },
     "execution_count": 9,
     "metadata": {},
     "output_type": "execute_result"
    }
   ],
   "source": [
    "visitors.dtypes"
   ]
  },
  {
   "cell_type": "code",
   "execution_count": 10,
   "metadata": {
    "ExecuteTime": {
     "end_time": "2020-07-23T03:03:41.442121Z",
     "start_time": "2020-07-23T03:03:40.957104Z"
    }
   },
   "outputs": [
    {
     "data": {
      "text/plain": [
       "118577"
      ]
     },
     "execution_count": 10,
     "metadata": {},
     "output_type": "execute_result"
    }
   ],
   "source": [
    "len(visitors['user_id'].unique())\n",
    "## 118k unique visitors, of which 27k have made trx"
   ]
  },
  {
   "cell_type": "code",
   "execution_count": 11,
   "metadata": {
    "ExecuteTime": {
     "end_time": "2020-07-23T03:03:42.279093Z",
     "start_time": "2020-07-23T03:03:41.444124Z"
    }
   },
   "outputs": [
    {
     "name": "stdout",
     "output_type": "stream",
     "text": [
      "1981896\n",
      "1981904\n"
     ]
    }
   ],
   "source": [
    "print(len(visitors['session_id'].unique()))\n",
    "print(visitors.shape[0])\n",
    "## this is not equal to num of visitors, we have 18 fewer sessions than visitors. Outliers?"
   ]
  },
  {
   "cell_type": "markdown",
   "metadata": {},
   "source": [
    "### Missing Data"
   ]
  },
  {
   "cell_type": "code",
   "execution_count": 12,
   "metadata": {
    "ExecuteTime": {
     "end_time": "2020-07-23T03:03:42.929091Z",
     "start_time": "2020-07-23T03:03:42.280094Z"
    }
   },
   "outputs": [
    {
     "name": "stdout",
     "output_type": "stream",
     "text": [
      "user_id              0\n",
      "transaction_id       0\n",
      "time                 0\n",
      "country           1351\n",
      "items                0\n",
      "total                0\n",
      "returned_items       0\n",
      "dtype: int64\n"
     ]
    },
    {
     "data": {
      "image/png": "[encoded data removed]",
      "text/plain": [
       "<Figure size 1800x720 with 2 Axes>"
      ]
     },
     "metadata": {
      "needs_background": "light"
     },
     "output_type": "display_data"
    }
   ],
   "source": [
    "msno.matrix(trx)\n",
    "print(trx.isnull().sum())"
   ]
  },
  {
   "cell_type": "markdown",
   "metadata": {},
   "source": [
    "`country` has missing values, we can solve this by - \n",
    "1.  imputing the mode (i.e Most common country)\n",
    "2.  identifying the users and using a location previously recorded for them\n",
    "3.  using `ip_country` from `visitors` for the corresponding user.\n",
    "\n",
    "Let's try approach 1"
   ]
  },
  {
   "cell_type": "code",
   "execution_count": 13,
   "metadata": {
    "ExecuteTime": {
     "end_time": "2020-07-23T03:03:43.000092Z",
     "start_time": "2020-07-23T03:03:42.930095Z"
    }
   },
   "outputs": [
    {
     "name": "stdout",
     "output_type": "stream",
     "text": [
      "A    80131\n",
      "B    24339\n",
      "C    14841\n",
      "Name: country, dtype: int64\n",
      "1351\n",
      "0\n"
     ]
    }
   ],
   "source": [
    "##0a. Check distribution by country\n",
    "print(trx['country'].value_counts())\n",
    "##0b. How many missing values?\n",
    "print(trx[trx.isnull().any(axis=1)].shape[0])\n",
    "##1. Since, the number of rows missing country is small and country A is the mode by a large margin, \n",
    "## we can safely use mode for missing value imputation\n",
    "trx['country'].fillna(trx['country'].mode()[0], inplace=True)\n",
    "##2. Check for missing\n",
    "print(trx[trx.isnull().any(axis=1)].shape[0])"
   ]
  },
  {
   "cell_type": "code",
   "execution_count": 14,
   "metadata": {
    "ExecuteTime": {
     "end_time": "2020-07-23T03:03:43.006095Z",
     "start_time": "2020-07-23T03:03:43.003092Z"
    }
   },
   "outputs": [],
   "source": [
    "# ##1. tie each user to a country:: Group by user, get all countries for that user, get the mode by agg\n",
    "# user_country = trx.groupby('user_id')['country'].agg(pd.Series.mode)\n",
    "# ##2. find users with missing country\n",
    "# missing_country = trx[trx.isnull().any(axis=1)]\n",
    "# ##3. Join the two\n",
    "# joined_df =  pd.merge(missing_country, user_country, on='user_id')\n",
    "# ##4. country_y now has the imputed values, drop country_x and rename country_y to country\n",
    "# joined_df.drop(['country_x'], inplace=True, axis=1)\n",
    "# joined_df.rename({'country_y':'country'}, axis=1, inplace=True)\n",
    "# ##5. Join back to trx\n",
    "# trx = joined_df[['user_id', 'transaction_id', 'country']]"
   ]
  },
  {
   "cell_type": "code",
   "execution_count": 15,
   "metadata": {
    "ExecuteTime": {
     "end_time": "2020-07-23T03:03:48.987090Z",
     "start_time": "2020-07-23T03:03:43.008094Z"
    }
   },
   "outputs": [
    {
     "name": "stdout",
     "output_type": "stream",
     "text": [
      "user_id       0\n",
      "client        0\n",
      "ip_country    0\n",
      "gender        0\n",
      "year_born     0\n",
      "channel       0\n",
      "time          0\n",
      "minutes       0\n",
      "session_id    0\n",
      "dtype: int64\n"
     ]
    },
    {
     "data": {
      "image/png": "[encoded data removed]",
      "text/plain": [
       "<Figure size 1800x720 with 2 Axes>"
      ]
     },
     "metadata": {
      "needs_background": "light"
     },
     "output_type": "display_data"
    }
   ],
   "source": [
    "msno.matrix(visitors)\n",
    "print(visitors.isnull().sum())"
   ]
  }
 ],
 "metadata": {
  "kernelspec": {
   "display_name": "Python 3",
   "language": "python",
   "name": "python3"
  },
  "language_info": {
   "codemirror_mode": {
    "name": "ipython",
    "version": 3
   },
   "file_extension": ".py",
   "mimetype": "text/x-python",
   "name": "python",
   "nbconvert_exporter": "python",
   "pygments_lexer": "ipython3",
   "version": "3.7.4"
  },
  "toc": {
   "base_numbering": 1,
   "nav_menu": {},
   "number_sections": false,
   "sideBar": true,
   "skip_h1_title": false,
   "title_cell": "Table of Contents",
   "title_sidebar": "Contents",
   "toc_cell": false,
   "toc_position": {},
   "toc_section_display": true,
   "toc_window_display": false
  },
  "varInspector": {
   "cols": {
    "lenName": 16,
    "lenType": 16,
    "lenVar": 40
   },
   "kernels_config": {
    "python": {
     "delete_cmd_postfix": "",
     "delete_cmd_prefix": "del ",
     "library": "var_list.py",
     "varRefreshCmd": "print(var_dic_list())"
    },
    "r": {
     "delete_cmd_postfix": ") ",
     "delete_cmd_prefix": "rm(",
     "library": "var_list.r",
     "varRefreshCmd": "cat(var_dic_list()) "
    }
   },
   "types_to_exclude": [
    "module",
    "function",
    "builtin_function_or_method",
    "instance",
    "_Feature"
   ],
   "window_display": false
  }
 },
 "nbformat": 4,
 "nbformat_minor": 2
}
